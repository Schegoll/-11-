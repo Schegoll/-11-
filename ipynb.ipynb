{
  "metadata": {
    "language_info": {
      "codemirror_mode": {
        "name": "python",
        "version": 3
      },
      "file_extension": ".py",
      "mimetype": "text/x-python",
      "name": "python",
      "nbconvert_exporter": "python",
      "pygments_lexer": "ipython3",
      "version": "3.8"
    },
    "kernelspec": {
      "name": "python",
      "display_name": "Python (Pyodide)",
      "language": "python"
    }
  },
  "nbformat_minor": 4,
  "nbformat": 4,
  "cells": [
    {
      "cell_type": "markdown",
      "source": "1. Import the numpy package under the name np",
      "metadata": {}
    },
    {
      "cell_type": "code",
      "source": "import numpy as np",
      "metadata": {
        "trusted": true
      },
      "execution_count": 2,
      "outputs": []
    },
    {
      "cell_type": "markdown",
      "source": "2. Print the numpy version and the configuration",
      "metadata": {}
    },
    {
      "cell_type": "code",
      "source": "print(np.version.version)\nprint(np.get_printoptions())",
      "metadata": {
        "trusted": true
      },
      "execution_count": 3,
      "outputs": [
        {
          "name": "stdout",
          "text": "1.22.4\n{'edgeitems': 3, 'threshold': 1000, 'floatmode': 'maxprec', 'precision': 8, 'suppress': False, 'linewidth': 75, 'nanstr': 'nan', 'infstr': 'inf', 'sign': '-', 'formatter': None, 'legacy': False}\n",
          "output_type": "stream"
        }
      ]
    },
    {
      "cell_type": "markdown",
      "source": "3. Create a null vector of size 10",
      "metadata": {}
    },
    {
      "cell_type": "code",
      "source": "v = np.zeros(10)",
      "metadata": {
        "trusted": true
      },
      "execution_count": 4,
      "outputs": []
    },
    {
      "cell_type": "markdown",
      "source": "6. Create a null vector of size 10 but the fifth value which is 1",
      "metadata": {}
    },
    {
      "cell_type": "code",
      "source": "v = (np.arange(10) == 4) * 1\nv",
      "metadata": {
        "trusted": true
      },
      "execution_count": 7,
      "outputs": [
        {
          "execution_count": 7,
          "output_type": "execute_result",
          "data": {
            "text/plain": "array([0, 0, 0, 0, 1, 0, 0, 0, 0, 0])"
          },
          "metadata": {}
        }
      ]
    },
    {
      "cell_type": "markdown",
      "source": "7. Create a vector with values ranging from 10 to 49",
      "metadata": {}
    },
    {
      "cell_type": "code",
      "source": "v = np.arange(10, 50)\nv",
      "metadata": {
        "trusted": true
      },
      "execution_count": 6,
      "outputs": [
        {
          "execution_count": 6,
          "output_type": "execute_result",
          "data": {
            "text/plain": "array([10, 11, 12, 13, 14, 15, 16, 17, 18, 19, 20, 21, 22, 23, 24, 25, 26,\n       27, 28, 29, 30, 31, 32, 33, 34, 35, 36, 37, 38, 39, 40, 41, 42, 43,\n       44, 45, 46, 47, 48, 49])"
          },
          "metadata": {}
        }
      ]
    },
    {
      "cell_type": "markdown",
      "source": "8. Reverse a vector (first element becomes last) (★☆☆)",
      "metadata": {}
    },
    {
      "cell_type": "code",
      "source": "v = np.arange(10)\nv = v[::-1]\nv",
      "metadata": {
        "trusted": true
      },
      "execution_count": 8,
      "outputs": [
        {
          "execution_count": 8,
          "output_type": "execute_result",
          "data": {
            "text/plain": "array([9, 8, 7, 6, 5, 4, 3, 2, 1, 0])"
          },
          "metadata": {}
        }
      ]
    },
    {
      "cell_type": "markdown",
      "source": "9. Create a 3x3 matrix with values ranging from 0 to 8 (★☆☆)",
      "metadata": {}
    },
    {
      "cell_type": "code",
      "source": "v = np.arange(9).reshape(3,3)\nv",
      "metadata": {
        "trusted": true
      },
      "execution_count": 9,
      "outputs": [
        {
          "execution_count": 9,
          "output_type": "execute_result",
          "data": {
            "text/plain": "array([[0, 1, 2],\n       [3, 4, 5],\n       [6, 7, 8]])"
          },
          "metadata": {}
        }
      ]
    },
    {
      "cell_type": "markdown",
      "source": "10. Find indices of non-zero elements from [1,2,0,0,4,0]",
      "metadata": {}
    },
    {
      "cell_type": "code",
      "source": "v = np.nonzero([1,2,0,0,4,0])\nv",
      "metadata": {
        "trusted": true
      },
      "execution_count": 10,
      "outputs": [
        {
          "execution_count": 10,
          "output_type": "execute_result",
          "data": {
            "text/plain": "(array([0, 1, 4], dtype=int32),)"
          },
          "metadata": {}
        }
      ]
    },
    {
      "cell_type": "markdown",
      "source": "11. Create a 3x3 identity matrix (★☆☆)",
      "metadata": {}
    },
    {
      "cell_type": "code",
      "source": "v = np.eye(3)\nv",
      "metadata": {
        "trusted": true
      },
      "execution_count": 11,
      "outputs": [
        {
          "execution_count": 11,
          "output_type": "execute_result",
          "data": {
            "text/plain": "array([[1., 0., 0.],\n       [0., 1., 0.],\n       [0., 0., 1.]])"
          },
          "metadata": {}
        }
      ]
    },
    {
      "cell_type": "markdown",
      "source": "12. Create a 3x3x3 array with random values (★☆☆)",
      "metadata": {}
    },
    {
      "cell_type": "code",
      "source": "v = np.random.uniform((3,3,3))\nv",
      "metadata": {
        "trusted": true
      },
      "execution_count": 12,
      "outputs": [
        {
          "execution_count": 12,
          "output_type": "execute_result",
          "data": {
            "text/plain": "array([1.94641458, 1.07768351, 2.77235468])"
          },
          "metadata": {}
        }
      ]
    },
    {
      "cell_type": "markdown",
      "source": "13. Create a 10x10 array with random values and find the minimum and maximum values (★☆☆)",
      "metadata": {}
    },
    {
      "cell_type": "code",
      "source": "V = np.random.random((10,10))\nV.min(), V.max()",
      "metadata": {
        "trusted": true
      },
      "execution_count": 15,
      "outputs": [
        {
          "execution_count": 15,
          "output_type": "execute_result",
          "data": {
            "text/plain": "(0.00500985299917478, 0.9855307931562947)"
          },
          "metadata": {}
        }
      ]
    },
    {
      "cell_type": "markdown",
      "source": "14. Create a random vector of size 30 and find the mean value (★☆☆)",
      "metadata": {}
    },
    {
      "cell_type": "code",
      "source": "V = np.random.random(10)\nV.mean()",
      "metadata": {
        "trusted": true
      },
      "execution_count": 16,
      "outputs": [
        {
          "execution_count": 16,
          "output_type": "execute_result",
          "data": {
            "text/plain": "0.509029419536229"
          },
          "metadata": {}
        }
      ]
    },
    {
      "cell_type": "markdown",
      "source": "15. Create a 2d array with 1 on the border and 0 inside (★☆☆)",
      "metadata": {}
    },
    {
      "cell_type": "code",
      "source": "V = np.ones((10,10))\nV[1:-1,1:-1] = 0\nV",
      "metadata": {
        "trusted": true
      },
      "execution_count": 21,
      "outputs": [
        {
          "execution_count": 21,
          "output_type": "execute_result",
          "data": {
            "text/plain": "array([[1., 1., 1., 1., 1., 1., 1., 1., 1., 1.],\n       [1., 0., 0., 0., 0., 0., 0., 0., 0., 1.],\n       [1., 0., 0., 0., 0., 0., 0., 0., 0., 1.],\n       [1., 0., 0., 0., 0., 0., 0., 0., 0., 1.],\n       [1., 0., 0., 0., 0., 0., 0., 0., 0., 1.],\n       [1., 0., 0., 0., 0., 0., 0., 0., 0., 1.],\n       [1., 0., 0., 0., 0., 0., 0., 0., 0., 1.],\n       [1., 0., 0., 0., 0., 0., 0., 0., 0., 1.],\n       [1., 0., 0., 0., 0., 0., 0., 0., 0., 1.],\n       [1., 1., 1., 1., 1., 1., 1., 1., 1., 1.]])"
          },
          "metadata": {}
        }
      ]
    },
    {
      "cell_type": "markdown",
      "source": "17. What is the result of the following expression? (★☆☆)\n\n0 * np.nan\nnp.nan == np.nan\nnp.inf > np.nan\nnp.nan - np.nan\nnp.nan in set([np.nan])\n0.3 == 3 * 0.1",
      "metadata": {}
    },
    {
      "cell_type": "code",
      "source": "print(0 * np.nan)\nprint(np.nan == np.nan)\nprint(np.inf > np.nan)\nprint(np.nan - np.nan)\nprint(0.3 == 3 * 0.1)",
      "metadata": {
        "trusted": true
      },
      "execution_count": 23,
      "outputs": [
        {
          "name": "stdout",
          "text": "nan\nFalse\nFalse\nnan\nFalse\n",
          "output_type": "stream"
        }
      ]
    },
    {
      "cell_type": "markdown",
      "source": "19. Create a 8x8 matrix and fill it with a checkerboard pattern (★☆☆)",
      "metadata": {}
    },
    {
      "cell_type": "code",
      "source": "V = np.zeros ((8,8))\nV[1::2, ::2]= 1\nV[::2, 1::2] = 1\nV",
      "metadata": {
        "trusted": true
      },
      "execution_count": 24,
      "outputs": [
        {
          "execution_count": 24,
          "output_type": "execute_result",
          "data": {
            "text/plain": "array([[0., 1., 0., 1., 0., 1., 0., 1.],\n       [1., 0., 1., 0., 1., 0., 1., 0.],\n       [0., 1., 0., 1., 0., 1., 0., 1.],\n       [1., 0., 1., 0., 1., 0., 1., 0.],\n       [0., 1., 0., 1., 0., 1., 0., 1.],\n       [1., 0., 1., 0., 1., 0., 1., 0.],\n       [0., 1., 0., 1., 0., 1., 0., 1.],\n       [1., 0., 1., 0., 1., 0., 1., 0.]])"
          },
          "metadata": {}
        }
      ]
    },
    {
      "cell_type": "markdown",
      "source": "20. Consider a (6,7,8) shape array, what is the index (x,y,z) of the 100th element? (★☆☆)",
      "metadata": {}
    },
    {
      "cell_type": "code",
      "source": "np.unravel_index(100, (6,7,8))",
      "metadata": {
        "trusted": true
      },
      "execution_count": 25,
      "outputs": [
        {
          "execution_count": 25,
          "output_type": "execute_result",
          "data": {
            "text/plain": "(1, 5, 4)"
          },
          "metadata": {}
        }
      ]
    },
    {
      "cell_type": "markdown",
      "source": "25. Given a 1D array, negate all elements which are between 3 and 8, in place. (★☆☆)",
      "metadata": {}
    },
    {
      "cell_type": "code",
      "source": "V = (np.random.random(30)*5)+3\nV",
      "metadata": {
        "trusted": true
      },
      "execution_count": 28,
      "outputs": [
        {
          "execution_count": 28,
          "output_type": "execute_result",
          "data": {
            "text/plain": "array([6.27328061, 7.05381886, 6.86817748, 3.99551108, 4.1475677 ,\n       5.79405114, 4.19233288, 3.11174741, 4.05425201, 7.24789809,\n       7.82865585, 4.31233603, 4.91791601, 3.988217  , 4.82660044,\n       3.81166453, 4.71390445, 7.9573683 , 4.22792707, 7.67628174,\n       6.71081216, 3.69493555, 6.6136063 , 7.94631044, 7.3415439 ,\n       7.79831378, 7.34732115, 7.77524028, 7.5492662 , 5.51931677])"
          },
          "metadata": {}
        }
      ]
    },
    {
      "cell_type": "markdown",
      "source": "28. What are the result of the following expressions? (★☆☆)\n\nnp.array(0) / np.array(0)\nnp.array(0) // np.array(0)\nnp.array([np.nan]).astype(int).astype(float)",
      "metadata": {}
    },
    {
      "cell_type": "code",
      "source": "print(np.array(0) / np.array(0))\nprint(np.array(0) // np.array(0))\nprint(np.array([np.nan]).astype(int).astype(float))",
      "metadata": {
        "trusted": true
      },
      "execution_count": 30,
      "outputs": [
        {
          "name": "stdout",
          "text": "nan\n0\n[-2.14748365e+09]\n",
          "output_type": "stream"
        }
      ]
    },
    {
      "cell_type": "markdown",
      "source": "30. How to find common values between two arrays? (★☆☆)",
      "metadata": {}
    },
    {
      "cell_type": "code",
      "source": "ar1 = np.array([0, 1, 2, 3, 4])\nar2 = np.array([1, 3, 4])\nprint(np.intersect1d(ar1, ar2))",
      "metadata": {
        "trusted": true
      },
      "execution_count": 31,
      "outputs": [
        {
          "name": "stdout",
          "text": "[1 3 4]\n",
          "output_type": "stream"
        }
      ]
    },
    {
      "cell_type": "markdown",
      "source": "40. Create a random vector of size 10 and sort it (★★☆)",
      "metadata": {}
    },
    {
      "cell_type": "code",
      "source": "np.sort(np.random.random(10))",
      "metadata": {
        "trusted": true
      },
      "execution_count": 34,
      "outputs": [
        {
          "execution_count": 34,
          "output_type": "execute_result",
          "data": {
            "text/plain": "array([0.23547415, 0.24224217, 0.41766862, 0.50694014, 0.55908873,\n       0.61674699, 0.64088045, 0.67721848, 0.6831058 , 0.68440673])"
          },
          "metadata": {}
        }
      ]
    },
    {
      "cell_type": "markdown",
      "source": "42. Consider two random array A and B, check if they are equal (★★☆)",
      "metadata": {}
    },
    {
      "cell_type": "code",
      "source": "ar1 = np.random.random(10)\nar2 = np.random.random(10)\nnp.allclose(ar1, ar2)",
      "metadata": {
        "trusted": true
      },
      "execution_count": 36,
      "outputs": [
        {
          "execution_count": 36,
          "output_type": "execute_result",
          "data": {
            "text/plain": "False"
          },
          "metadata": {}
        }
      ]
    },
    {
      "cell_type": "markdown",
      "source": "44. Consider a random 10x2 matrix representing cartesian coordinates, convert them to polar coordinates (★★☆)",
      "metadata": {}
    },
    {
      "cell_type": "code",
      "source": "v = np.random.random((10,2))\nx,y = v[:,0], v[:,1]\nx1 = np.sqrt(x**2+y**2)\ny1 = np.arctan2(y,x)\nprint(x1)\nprint(y1)",
      "metadata": {
        "trusted": true
      },
      "execution_count": 39,
      "outputs": [
        {
          "name": "stdout",
          "text": "[0.91720383 1.02187907 1.06244813 0.43108492 0.48820292 0.92960839\n 1.19593403 0.79608917 1.10795794 0.96985158]\n[1.42034335 1.31961463 0.72970081 0.89664525 1.32600076 0.95890351\n 0.81866583 0.8234031  1.07519185 0.74449442]\n",
          "output_type": "stream"
        }
      ]
    },
    {
      "cell_type": "markdown",
      "source": "53. How to convert a float (32 bits) array into an integer (32 bits) in place?",
      "metadata": {}
    },
    {
      "cell_type": "code",
      "source": "v = np.arange(10, dtype = np.float32)\nprint(v)\nv = v.astype(np.int32)\nv",
      "metadata": {
        "trusted": true
      },
      "execution_count": 45,
      "outputs": [
        {
          "name": "stdout",
          "text": "[0. 1. 2. 3. 4. 5. 6. 7. 8. 9.]\n",
          "output_type": "stream"
        },
        {
          "execution_count": 45,
          "output_type": "execute_result",
          "data": {
            "text/plain": "array([0, 1, 2, 3, 4, 5, 6, 7, 8, 9])"
          },
          "metadata": {}
        }
      ]
    },
    {
      "cell_type": "markdown",
      "source": "58. Subtract the mean of each row of a matrix (★★☆)",
      "metadata": {}
    },
    {
      "cell_type": "code",
      "source": "v = np.random.rand(5, 10)\nv\nv1 = v - v.mean(axis = 1, keepdims = True)\nprint(v1)",
      "metadata": {
        "trusted": true
      },
      "execution_count": 46,
      "outputs": [
        {
          "name": "stdout",
          "text": "[[-0.31101665  0.52313037 -0.35105775  0.17541514 -0.00557997 -0.11172632\n  -0.34525188  0.38668304  0.02049484  0.01890917]\n [-0.02929093  0.29558366  0.26699972  0.17922841 -0.34129914 -0.41247165\n  -0.33500678  0.50164183  0.14435455 -0.26973968]\n [-0.04233175 -0.20976449  0.44355685  0.30151639 -0.22823572 -0.15814729\n   0.49309797 -0.41255267 -0.43338045  0.24624115]\n [ 0.38738447 -0.26542549  0.13624575 -0.2559051   0.33781533  0.31418909\n  -0.31458572 -0.07939026  0.05391369 -0.31424177]\n [-0.20761361 -0.24983223 -0.04608249 -0.07210346  0.47037067 -0.28395251\n   0.61377874 -0.09040804  0.07062139 -0.20477844]]\n",
          "output_type": "stream"
        }
      ]
    }
  ]
}